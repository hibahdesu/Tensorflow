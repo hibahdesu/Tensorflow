{
 "cells": [
  {
   "cell_type": "code",
   "execution_count": null,
   "id": "e1c5e435",
   "metadata": {},
   "outputs": [],
   "source": [
    "import pandas as pd\n",
    "import numpy as np"
   ]
  },
  {
   "cell_type": "code",
   "execution_count": null,
   "id": "102302d4",
   "metadata": {},
   "outputs": [],
   "source": [
    "import nltk"
   ]
  },
  {
   "cell_type": "code",
   "execution_count": null,
   "id": "876165ac",
   "metadata": {},
   "outputs": [],
   "source": [
    "nltk.download('punkt')       # Loads the necessary files for sentence and word tokenization.\n",
    "nltk.download('stopwords')   # loads stopword datasets\n",
    "nltk.download('wordnet')     # loads the necessary files for normalization.\n",
    "nltk.download('omw-1.4')"
   ]
  },
  {
   "cell_type": "code",
   "execution_count": null,
   "id": "4f7e8b36",
   "metadata": {},
   "outputs": [],
   "source": [
    "from nltk.tokenize import sent_tokenize, word_tokenize"
   ]
  },
  {
   "cell_type": "code",
   "execution_count": null,
   "id": "5d780799",
   "metadata": {},
   "outputs": [],
   "source": [
    "sentence_token = sent_tokenize(sample_text.lower())\n",
    "sentence_token"
   ]
  },
  {
   "cell_type": "code",
   "execution_count": null,
   "id": "6d707ca9",
   "metadata": {},
   "outputs": [],
   "source": [
    "word_token = word_tokenize(sample_text.lower())\n",
    "word_token"
   ]
  },
  {
   "cell_type": "markdown",
   "id": "c4095a05",
   "metadata": {},
   "source": [
    "## Removing Punctuation and Numbers"
   ]
  },
  {
   "cell_type": "code",
   "execution_count": null,
   "id": "bcf6119e",
   "metadata": {},
   "outputs": [],
   "source": [
    "tokens_without_punc = [w for w in word_token if w.isalpha()] # .isalnum() for number and object\n",
    "tokens_without_punc\n",
    "\n",
    "# isalpha() checks whether a token is a string or not. It returns True if it's a string, and False otherwise. In the list comprehension we created above,\n",
    "# individual word tokens are checked one by one, and the ones that are strings are filtered. isalnum() checks whether a token is a string or numeric.\n",
    "# It returns True if it's a string or numeric, and False otherwise. If we also want to filter out numeric expressions, we can use isalnum().\n",
    "# We assign the result of this filtering to the variable tokens_without_punc."
   ]
  },
  {
   "cell_type": "markdown",
   "id": "c7c7f8d9",
   "metadata": {},
   "source": [
    "# Removing Stopwords"
   ]
  },
  {
   "cell_type": "code",
   "execution_count": null,
   "id": "90104d08",
   "metadata": {},
   "outputs": [],
   "source": [
    "from nltk.corpus import stopwords"
   ]
  },
  {
   "cell_type": "code",
   "execution_count": null,
   "id": "23026ed9",
   "metadata": {},
   "outputs": [],
   "source": [
    "stop_words = stopwords.words(\"english\")\n",
    "stop_words"
   ]
  },
  {
   "cell_type": "code",
   "execution_count": null,
   "id": "bf7d04c5",
   "metadata": {},
   "outputs": [],
   "source": [
    "token_without_sw = [t for t in tokens_without_punc if t not in stop_words]\n",
    "\n",
    "token_without_sw"
   ]
  },
  {
   "cell_type": "code",
   "execution_count": null,
   "id": "917b74f6",
   "metadata": {},
   "outputs": [],
   "source": [
    "from nltk.stem import WordNetLemmatizer"
   ]
  },
  {
   "cell_type": "code",
   "execution_count": null,
   "id": "b59b77cb",
   "metadata": {},
   "outputs": [],
   "source": []
  }
 ],
 "metadata": {
  "kernelspec": {
   "display_name": "Python 3 (ipykernel)",
   "language": "python",
   "name": "python3"
  },
  "language_info": {
   "codemirror_mode": {
    "name": "ipython",
    "version": 3
   },
   "file_extension": ".py",
   "mimetype": "text/x-python",
   "name": "python",
   "nbconvert_exporter": "python",
   "pygments_lexer": "ipython3",
   "version": "3.11.5"
  }
 },
 "nbformat": 4,
 "nbformat_minor": 5
}
