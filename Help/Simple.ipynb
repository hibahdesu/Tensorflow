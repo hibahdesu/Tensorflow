{
 "cells": [
  {
   "cell_type": "markdown",
   "id": "62a1d68d",
   "metadata": {},
   "source": [
    "# Libraries"
   ]
  },
  {
   "cell_type": "code",
   "execution_count": null,
   "id": "8e35f038",
   "metadata": {},
   "outputs": [],
   "source": [
    "import numpy as np\n",
    "import pandas as pd\n",
    "import matplotlib.pyplot as plt\n",
    "import seaborn as sns"
   ]
  },
  {
   "cell_type": "code",
   "execution_count": null,
   "id": "a1e2a2b0",
   "metadata": {},
   "outputs": [],
   "source": [
    "import tensorflow as tf\n",
    "from tensorflow.keras.models import Sequential\n",
    "from tensorflow.keras.layers import Input, Dense, Activation"
   ]
  },
  {
   "cell_type": "markdown",
   "id": "37839550",
   "metadata": {},
   "source": [
    "# Visualizing X and y"
   ]
  },
  {
   "cell_type": "code",
   "execution_count": null,
   "id": "a3724b21",
   "metadata": {},
   "outputs": [],
   "source": [
    "# Visualize it\n",
    "plt.scatter(X, y);"
   ]
  },
  {
   "cell_type": "code",
   "execution_count": null,
   "id": "12cecfee",
   "metadata": {},
   "outputs": [],
   "source": [
    "# Take a single example of X\n",
    "input_shape = X[0].shape \n",
    "\n",
    "# Take a single example of y\n",
    "output_shape = y[0].shape\n",
    "\n",
    "input_shape, output_shape # these are both scalars (no shape)"
   ]
  },
  {
   "cell_type": "markdown",
   "id": "76f7083e",
   "metadata": {},
   "source": [
    "# Split data into train and test sets"
   ]
  },
  {
   "cell_type": "code",
   "execution_count": null,
   "id": "f00a200f",
   "metadata": {},
   "outputs": [],
   "source": [
    "# Split data into train and test sets\n",
    "X_train = X[:40] # first 40 examples (80% of data)\n",
    "y_train = y[:40]\n",
    "\n",
    "X_test = X[40:] # last 10 examples (20% of data)\n",
    "y_test = y[40:]\n",
    "\n",
    "len(X_train), len(X_test)"
   ]
  },
  {
   "cell_type": "markdown",
   "id": "cf819cd2",
   "metadata": {},
   "source": [
    "# Visualizing the data"
   ]
  },
  {
   "cell_type": "code",
   "execution_count": null,
   "id": "56c82b83",
   "metadata": {},
   "outputs": [],
   "source": [
    "plt.figure(figsize=(10, 7))\n",
    "# Plot training data in blue\n",
    "plt.scatter(X_train, y_train, c='b', label='Training data')\n",
    "# Plot test data in green\n",
    "plt.scatter(X_test, y_test, c='g', label='Testing data')\n",
    "# Show the legend\n",
    "plt.legend();"
   ]
  },
  {
   "cell_type": "markdown",
   "id": "37ceb5f0",
   "metadata": {},
   "source": [
    "# Turn all categories into numbers"
   ]
  },
  {
   "cell_type": "code",
   "execution_count": null,
   "id": "55f131e6",
   "metadata": {},
   "outputs": [],
   "source": [
    "# Turn all categories into numbers\n",
    "insurance_one_hot = pd.get_dummies(insurance)\n",
    "insurance_one_hot.head() # view the converted columns"
   ]
  },
  {
   "cell_type": "markdown",
   "id": "a67986a3",
   "metadata": {},
   "source": [
    "## Create X & y values"
   ]
  },
  {
   "cell_type": "code",
   "execution_count": null,
   "id": "a5eb398c",
   "metadata": {},
   "outputs": [],
   "source": [
    "# Create X & y values\n",
    "X = insurance_one_hot.drop(\"charges\", axis=1)\n",
    "y = insurance_one_hot[\"charges\"]"
   ]
  },
  {
   "cell_type": "markdown",
   "id": "aa9291ba",
   "metadata": {},
   "source": [
    "## Create training and test sets"
   ]
  },
  {
   "cell_type": "code",
   "execution_count": null,
   "id": "79e3206e",
   "metadata": {},
   "outputs": [],
   "source": [
    "# Create training and test sets\n",
    "from sklearn.model_selection import train_test_split\n",
    "X_train, X_test, y_train, y_test = train_test_split(X, \n",
    "                                                    y, \n",
    "                                                    test_size=0.2, \n",
    "                                                    random_state=42) # set random state for reproducible splits"
   ]
  },
  {
   "cell_type": "markdown",
   "id": "fad6ee69",
   "metadata": {},
   "source": [
    "# Preprocessing data (normalization and standardization)"
   ]
  },
  {
   "cell_type": "code",
   "execution_count": null,
   "id": "d0c88067",
   "metadata": {},
   "outputs": [],
   "source": [
    "from sklearn.compose import make_column_transformer\n",
    "from sklearn.preprocessing import MinMaxScaler, OneHotEncoder\n",
    "\n",
    "# Create column transformer (this will help us normalize/preprocess our data)\n",
    "ct = make_column_transformer(\n",
    "    (MinMaxScaler(), [\"age\", \"bmi\", \"children\"]), # get all values between 0 and 1\n",
    "    (OneHotEncoder(handle_unknown=\"ignore\"), [\"sex\", \"smoker\", \"region\"])\n",
    ")\n",
    "\n",
    "# Create X & y\n",
    "X = insurance.drop(\"charges\", axis=1)\n",
    "y = insurance[\"charges\"]\n",
    "\n",
    "# Build our train and test sets (use random state to ensure same split as before)\n",
    "X_train, X_test, y_train, y_test = train_test_split(X, y, test_size=0.2, random_state=42)\n",
    "\n",
    "# Fit column transformer on the training data only (doing so on test data would result in data leakage)\n",
    "ct.fit(X_train)\n",
    "\n",
    "# Transform training and test data with normalization (MinMaxScalar) and one hot encoding (OneHotEncoder)\n",
    "X_train_normal = ct.transform(X_train)\n",
    "X_test_normal = ct.transform(X_test)"
   ]
  },
  {
   "cell_type": "markdown",
   "id": "f7007362",
   "metadata": {},
   "source": [
    "## First way"
   ]
  },
  {
   "cell_type": "code",
   "execution_count": null,
   "id": "6c6aed3d",
   "metadata": {},
   "outputs": [],
   "source": [
    "# Set random seed\n",
    "tf.random.set_seed(42)\n",
    "model = Sequential(\n",
    "    [\n",
    "        Input(shape=X_train.shape[1]),\n",
    "        Dense(units=4, activation=\"relu\"),\n",
    "        Dense(units=4, activation=\"relu\"),\n",
    "        Dense(units=4, activation=\"relu\"),\n",
    "        Dense(units=1),\n",
    "    ]\n",
    ")\n",
    "\n",
    "#Model summary\n",
    "model.summary()"
   ]
  },
  {
   "cell_type": "markdown",
   "id": "a39921d6",
   "metadata": {},
   "source": [
    "## Second way"
   ]
  },
  {
   "cell_type": "code",
   "execution_count": null,
   "id": "b675b995",
   "metadata": {},
   "outputs": [],
   "source": [
    "# Set random seed\n",
    "tf.random.set_seed(42)\n",
    "\n",
    "# The recommended way of creating the model using the Sequential API\n",
    "\n",
    "model = Sequential()\n",
    "# Uncomment to explicitly add an input layer (not recommended).\n",
    "# model.add(Input(shape = X_train.shape[1]))\n",
    "model.add(\n",
    "    Dense(units=4, activation=\"relu\", input_dim=X_train.shape[1])\n",
    ")  # Here the first hidden layer\n",
    "# also behaves like the input layer as well, if provided with the input_dim parameter.\n",
    "model.add(Dense(units=4, activation=\"relu\"))\n",
    "model.add(Dense(units=4, activation=\"relu\"))\n",
    "model.add(Dense(units=1))\n",
    "\n",
    "\n",
    "#Model summary\n",
    "model.summary()"
   ]
  },
  {
   "cell_type": "code",
   "execution_count": null,
   "id": "7f569823",
   "metadata": {},
   "outputs": [],
   "source": [
    "#model weights\n",
    "model.weights"
   ]
  },
  {
   "cell_type": "markdown",
   "id": "a48a75e8",
   "metadata": {},
   "source": [
    "# Model Function"
   ]
  },
  {
   "cell_type": "code",
   "execution_count": null,
   "id": "6a8dd1eb",
   "metadata": {},
   "outputs": [],
   "source": [
    "def house_model():\n",
    "    ### START CODE HERE\n",
    "    \n",
    "    # Define input and output tensors with the values for houses with 1 up to 6 bedrooms\n",
    "    # Hint: Remember to explictly set the dtype as float\n",
    "    xs = np.array([1.0, 2.0, 3.0, 4.0, 5.0, 6.0], dtype=float)\n",
    "    ys = np.array([1.0, 1.5, 2.0, 2.5, 3.0, 3.5], dtype=float)\n",
    "    \n",
    "    # Define your model (should be a model with 1 dense layer and 1 unit)\n",
    "    # Note: you can use `tf.keras` instead of `keras`\n",
    "    model = tf.keras.Sequential([keras.layers.Dense(units=1, input_shape=[1])])\n",
    "    \n",
    "    # Compile your model\n",
    "    # Set the optimizer to Stochastic Gradient Descent\n",
    "    # and use Mean Squared Error as the loss function\n",
    "    model.compile(optimizer='sgd', loss='mean_squared_error')\n",
    "    \n",
    "    # Train your model for 1000 epochs by feeding the i/o tensors\n",
    "    model.fit(xs, ys, epochs=1000)\n",
    "    \n",
    "    ### END CODE HERE\n",
    "    return model\n",
    "\n",
    "\n",
    "model = house_model()"
   ]
  },
  {
   "cell_type": "code",
   "execution_count": null,
   "id": "ae068c23",
   "metadata": {},
   "outputs": [],
   "source": [
    "def solution_A1():\n",
    "    # DO NOT CHANGE THIS CODE\n",
    "    X = np.array([-4.0, -3.0, -2.0, -1.0, 0.0, 1.0,\n",
    "                 2.0, 3.0, 4.0, 5.0], dtype=float)\n",
    "    Y = np.array([5.0, 6.0, 7.0, 8.0, 9.0, 10.0, 11.0,\n",
    "                 12.0, 13.0, 14.0, ], dtype=float)\n",
    "\n",
    "\n",
    "    # YOUR CODE HERE\n",
    "    model = keras.Sequential([\n",
    "        keras.layers.Dense(10, input_shape=[1]),\n",
    "        keras.layers.Dense(1)\n",
    "    ])\n",
    "\n",
    "    optimizer = keras.optimizers.Adam(learning_rate=0.001)\n",
    "    model.compile(optimizer=optimizer, loss='mse')\n",
    "\n",
    "    model.fit(X, Y, epochs=3000)\n",
    "\n",
    "    print(model.predict([-2.0, 10.0]))\n",
    "    return model"
   ]
  },
  {
   "cell_type": "markdown",
   "id": "cdebe161",
   "metadata": {},
   "source": [
    "### Choosing an optimizer and loss\n",
    "\n",
    "Keep in mind what kind of a problem you are trying to solve:\n",
    "\n",
    "- For a multi-class classification problem:\n",
    "```python\n",
    "    model.compile(optimizer='rmsprop',\n",
    "                  loss='categorical_crossentropy',\n",
    "                  metrics=['accuracy'])\n",
    "```\n",
    "- For a binary classification problem:\n",
    "```python\n",
    "    model.compile(optimizer='rmsprop',\n",
    "                  loss='binary_crossentropy',\n",
    "                  metrics=['accuracy'])\n",
    "```\n",
    "- For a regression problem with `mse` loss:\n",
    "```python\n",
    "    model.compile(optimizer='rmsprop',\n",
    "                  loss='mse')\n",
    "```\n",
    "\n",
    "**Note:** *The optimiser* `rmsprop` *was chosen as an example here. You can choose any optimiser you want that is suitable for the problem you have at hand.*"
   ]
  },
  {
   "cell_type": "markdown",
   "id": "915033a2",
   "metadata": {},
   "source": [
    "# Compile the model "
   ]
  },
  {
   "cell_type": "code",
   "execution_count": null,
   "id": "6918d019",
   "metadata": {},
   "outputs": [],
   "source": [
    "model.compile(optimizer=\"rmsprop\", loss=\"mse\")"
   ]
  },
  {
   "cell_type": "code",
   "execution_count": null,
   "id": "da5c8f15",
   "metadata": {},
   "outputs": [],
   "source": [
    "# Compile the model\n",
    "model.compile(loss=tf.keras.losses.mae, # mae is short for mean absolute error\n",
    "              optimizer=tf.keras.optimizers.SGD(), # SGD is short for stochastic gradient descent\n",
    "              metrics=[\"mae\"])"
   ]
  },
  {
   "cell_type": "code",
   "execution_count": null,
   "id": "a3a173da",
   "metadata": {},
   "outputs": [],
   "source": [
    "# Compile the model\n",
    "insurance_model_3.compile(loss=tf.keras.losses.mae,\n",
    "                          optimizer=tf.keras.optimizers.Adam(),\n",
    "                          metrics=['mae'])"
   ]
  },
  {
   "cell_type": "markdown",
   "id": "898788e3",
   "metadata": {},
   "source": [
    "## Compile for binary data ( classification model)"
   ]
  },
  {
   "cell_type": "code",
   "execution_count": null,
   "id": "ff5aabe8",
   "metadata": {},
   "outputs": [],
   "source": [
    "model.compile(optimizer='adam', loss='binary_crossentropy', metrics=['accuracy'])"
   ]
  },
  {
   "cell_type": "markdown",
   "id": "1f325eeb",
   "metadata": {},
   "source": [
    "# Fitting the model"
   ]
  },
  {
   "cell_type": "code",
   "execution_count": null,
   "id": "92c8ff9f",
   "metadata": {},
   "outputs": [],
   "source": [
    "model.fit(x=X_train, y=y_train, batch_size=32, epochs=250)"
   ]
  },
  {
   "cell_type": "code",
   "execution_count": null,
   "id": "c8956372",
   "metadata": {},
   "outputs": [],
   "source": [
    "model.fit(tf.expand_dims(X, axis=-1), y, epochs=5)"
   ]
  },
  {
   "cell_type": "markdown",
   "id": "822a21ac",
   "metadata": {},
   "source": [
    "# Model summary"
   ]
  },
  {
   "cell_type": "code",
   "execution_count": null,
   "id": "2337dde5",
   "metadata": {},
   "outputs": [],
   "source": [
    "#Seeing the summary of the model\n",
    "model.summary()"
   ]
  },
  {
   "cell_type": "code",
   "execution_count": null,
   "id": "ec4112e9",
   "metadata": {},
   "outputs": [],
   "source": [
    "from tensorflow.keras.utils import plot_model\n",
    "\n",
    "plot_model(model, show_shapes=True)"
   ]
  },
  {
   "cell_type": "markdown",
   "id": "b2abb93a",
   "metadata": {},
   "source": [
    "# Model history"
   ]
  },
  {
   "cell_type": "code",
   "execution_count": 2,
   "id": "faa584e1",
   "metadata": {},
   "outputs": [
    {
     "ename": "NameError",
     "evalue": "name 'model' is not defined",
     "output_type": "error",
     "traceback": [
      "\u001b[1;31m---------------------------------------------------------------------------\u001b[0m",
      "\u001b[1;31mNameError\u001b[0m                                 Traceback (most recent call last)",
      "\u001b[1;32m~\\AppData\\Local\\Temp\\ipykernel_32012\\597939795.py\u001b[0m in \u001b[0;36m<cell line: 0>\u001b[1;34m()\u001b[0m\n\u001b[1;32m----> 1\u001b[1;33m \u001b[0mmodel\u001b[0m\u001b[1;33m.\u001b[0m\u001b[0mhistory\u001b[0m\u001b[1;33m.\u001b[0m\u001b[0mhistory\u001b[0m\u001b[1;33m\u001b[0m\u001b[1;33m\u001b[0m\u001b[0m\n\u001b[0m",
      "\u001b[1;31mNameError\u001b[0m: name 'model' is not defined"
     ]
    }
   ],
   "source": [
    "model.history.history"
   ]
  },
  {
   "cell_type": "markdown",
   "id": "496fa0a3",
   "metadata": {},
   "source": [
    "# Plotting the model"
   ]
  },
  {
   "cell_type": "code",
   "execution_count": null,
   "id": "d75be014",
   "metadata": {},
   "outputs": [],
   "source": [
    "# We can easily turn that training history into a dataframe since it's a dict type.\n",
    "loss_df = pd.DataFrame(model.history.history)\n",
    "loss_df.plot()"
   ]
  },
  {
   "cell_type": "code",
   "execution_count": null,
   "id": "4195c7a7",
   "metadata": {},
   "outputs": [],
   "source": [
    "fig, ax = plt.subplots()\n",
    "ax.plot(loss_df)\n",
    "ax.set_xlabel(\"epoch\")\n",
    "ax.set_ylabel(\"loss\")\n",
    "ax.set_title(\"loss - epoch graph\")\n",
    "ax.set_xlim([0, 250])  # focusing on the given x values\n",
    "ax.set_ylim([0, 3000])  # focusing on the given y values"
   ]
  },
  {
   "cell_type": "markdown",
   "id": "cb1b6809",
   "metadata": {},
   "source": [
    "# Prediction"
   ]
  },
  {
   "cell_type": "code",
   "execution_count": null,
   "id": "228d824a",
   "metadata": {},
   "outputs": [],
   "source": [
    "# Make a prediction with the model\n",
    "model.predict([17.0])"
   ]
  },
  {
   "cell_type": "markdown",
   "id": "c6d55a30",
   "metadata": {},
   "source": [
    "# Visualizing the predictions"
   ]
  },
  {
   "cell_type": "code",
   "execution_count": null,
   "id": "d3ed53e2",
   "metadata": {},
   "outputs": [],
   "source": [
    "def plot_predictions(train_data=X_train, \n",
    "                     train_labels=y_train, \n",
    "                     test_data=X_test, \n",
    "                     test_labels=y_test, \n",
    "                     predictions=y_preds):\n",
    "  \"\"\"\n",
    "  Plots training data, test data and compares predictions.\n",
    "  \"\"\"\n",
    "  plt.figure(figsize=(10, 7))\n",
    "  # Plot training data in blue\n",
    "  plt.scatter(train_data, train_labels, c=\"b\", label=\"Training data\")\n",
    "  # Plot test data in green\n",
    "  plt.scatter(test_data, test_labels, c=\"g\", label=\"Testing data\")\n",
    "  # Plot the predictions in red (predictions were made on the test data)\n",
    "  plt.scatter(test_data, predictions, c=\"r\", label=\"Predictions\")\n",
    "  # Show the legend\n",
    "  plt.legend();"
   ]
  },
  {
   "cell_type": "code",
   "execution_count": null,
   "id": "adc01579",
   "metadata": {},
   "outputs": [],
   "source": [
    "plot_predictions(train_data=X_train,\n",
    "                 train_labels=y_train,\n",
    "                 test_data=X_test,\n",
    "                 test_labels=y_test,\n",
    "                 predictions=y_preds)"
   ]
  },
  {
   "cell_type": "markdown",
   "id": "7a5a2cc7",
   "metadata": {},
   "source": [
    "# Evaluating predictions"
   ]
  },
  {
   "cell_type": "code",
   "execution_count": null,
   "id": "a61c30f9",
   "metadata": {},
   "outputs": [],
   "source": [
    "# Evaluate the model on the test set\n",
    "model.evaluate(X_test, y_test)"
   ]
  },
  {
   "cell_type": "code",
   "execution_count": null,
   "id": "d30868d0",
   "metadata": {},
   "outputs": [],
   "source": [
    "# Calculate the mean absolute error\n",
    "mae = tf.metrics.mean_absolute_error(y_true=y_test, \n",
    "                                     y_pred=y_preds)\n",
    "mae"
   ]
  },
  {
   "cell_type": "code",
   "execution_count": null,
   "id": "8fc39926",
   "metadata": {},
   "outputs": [],
   "source": [
    "# Calcuate the MAE\n",
    "mae = tf.metrics.mean_absolute_error(y_true=y_test, \n",
    "                                     y_pred=y_preds.squeeze()) # use squeeze() to make same shape\n",
    "mae"
   ]
  },
  {
   "cell_type": "code",
   "execution_count": null,
   "id": "9089980a",
   "metadata": {},
   "outputs": [],
   "source": [
    "# Calculate the MSE\n",
    "mse = tf.metrics.mean_squared_error(y_true=y_test,\n",
    "                                    y_pred=y_preds.squeeze())\n",
    "mse"
   ]
  },
  {
   "cell_type": "code",
   "execution_count": null,
   "id": "decb0d9d",
   "metadata": {},
   "outputs": [],
   "source": [
    "# Returns the same as tf.metrics.mean_absolute_error()\n",
    "tf.reduce_mean(tf.abs(y_test-y_preds.squeeze()))"
   ]
  },
  {
   "cell_type": "code",
   "execution_count": null,
   "id": "ba886491",
   "metadata": {},
   "outputs": [],
   "source": [
    "def mae(y_test, y_pred):\n",
    "  \"\"\"\n",
    "  Calculuates mean absolute error between y_test and y_preds.\n",
    "  \"\"\"\n",
    "  return tf.metrics.mean_absolute_error(y_test,\n",
    "                                        y_pred)\n",
    "  \n",
    "def mse(y_test, y_pred):\n",
    "  \"\"\"\n",
    "  Calculates mean squared error between y_test and y_preds.\n",
    "  \"\"\"\n",
    "  return tf.metrics.mean_squared_error(y_test,\n",
    "                                       y_pred)"
   ]
  },
  {
   "cell_type": "markdown",
   "id": "9ee9dce8",
   "metadata": {},
   "source": [
    "# Saving a model"
   ]
  },
  {
   "cell_type": "code",
   "execution_count": null,
   "id": "df34ed3b",
   "metadata": {},
   "outputs": [],
   "source": [
    "# Save a model using the HDF5 format\n",
    "model_2.save(\"best_model_HDF5_format.h5\") # note the addition of '.h5' on the end"
   ]
  },
  {
   "cell_type": "code",
   "execution_count": null,
   "id": "aa0553c1",
   "metadata": {},
   "outputs": [],
   "source": [
    "# Check it out\n",
    "!ls best_model_HDF5_format.h5"
   ]
  },
  {
   "cell_type": "markdown",
   "id": "d3801c3e",
   "metadata": {},
   "source": [
    "# Loading a model"
   ]
  },
  {
   "cell_type": "code",
   "execution_count": null,
   "id": "2672ce1c",
   "metadata": {},
   "outputs": [],
   "source": [
    "# Load a model from the HDF5 format\n",
    "loaded_h5_model = tf.keras.models.load_model(\"best_model_HDF5_format.h5\")\n",
    "loaded_h5_model.summary()"
   ]
  },
  {
   "cell_type": "code",
   "execution_count": null,
   "id": "814624f2",
   "metadata": {},
   "outputs": [],
   "source": [
    "# Compare model_2 with the loaded HDF5 version (should return True)\n",
    "h5_model_preds = loaded_h5_model.predict(X_test)\n",
    "mae(y_test, h5_model_preds.squeeze()).numpy() == mae(y_test, model_2_preds.squeeze()).numpy()"
   ]
  },
  {
   "cell_type": "markdown",
   "id": "83ccf05d",
   "metadata": {},
   "source": [
    "# Downloading a model (from Google Colab)"
   ]
  },
  {
   "cell_type": "code",
   "execution_count": null,
   "id": "741bd7e2",
   "metadata": {},
   "outputs": [],
   "source": [
    "# Download the model (or any file) from Google Colab\n",
    "from google.colab import files\n",
    "files.download(\"best_model_HDF5_format.h5\")"
   ]
  },
  {
   "cell_type": "code",
   "execution_count": 7,
   "id": "5189bd9d",
   "metadata": {},
   "outputs": [
    {
     "data": {
      "text/plain": [
       "False"
      ]
     },
     "execution_count": 7,
     "metadata": {},
     "output_type": "execute_result"
    }
   ],
   "source": [
    "1 < 1e-4"
   ]
  },
  {
   "cell_type": "code",
   "execution_count": null,
   "id": "e3266c0b",
   "metadata": {},
   "outputs": [],
   "source": []
  }
 ],
 "metadata": {
  "kernelspec": {
   "display_name": "Python 3 (ipykernel)",
   "language": "python",
   "name": "python3"
  },
  "language_info": {
   "codemirror_mode": {
    "name": "ipython",
    "version": 3
   },
   "file_extension": ".py",
   "mimetype": "text/x-python",
   "name": "python",
   "nbconvert_exporter": "python",
   "pygments_lexer": "ipython3",
   "version": "3.11.5"
  }
 },
 "nbformat": 4,
 "nbformat_minor": 5
}
