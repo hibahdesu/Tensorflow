{
 "cells": [
  {
   "cell_type": "markdown",
   "id": "84be48fb",
   "metadata": {},
   "source": [
    "# learning rate"
   ]
  },
  {
   "cell_type": "code",
   "execution_count": null,
   "id": "0596a7af",
   "metadata": {},
   "outputs": [],
   "source": [
    "from tensorflow.keras.optimizers import Adam\n",
    "\n",
    "\n",
    "\n",
    "opt = Adam(learning_rate=0.003)  # default learning rate value is 0.001\n",
    "model.compile(optimizer=opt, loss=\"mse\")"
   ]
  },
  {
   "cell_type": "markdown",
   "id": "f04dfe51",
   "metadata": {},
   "source": [
    "# EarlyStopping"
   ]
  },
  {
   "cell_type": "code",
   "execution_count": null,
   "id": "0cf939ac",
   "metadata": {},
   "outputs": [],
   "source": [
    "#Importing\n",
    "from tensorflow.keras.callbacks import EarlyStopping\n",
    "\n",
    "#Early stoppling \n",
    "early_stop = EarlyStopping(\n",
    "    monitor=\"val_loss\", mode=\"min\", verbose=1, patience=25, restore_best_weights=True\n",
    ")"
   ]
  },
  {
   "cell_type": "markdown",
   "id": "81199f7e",
   "metadata": {},
   "source": [
    "## Example"
   ]
  },
  {
   "cell_type": "code",
   "execution_count": null,
   "id": "fd8f2126",
   "metadata": {},
   "outputs": [],
   "source": [
    "#Importing\n",
    "from tensorflow.keras.callbacks import EarlyStopping\n",
    "\n",
    "#First building the model \n",
    "model = Sequential()\n",
    "\n",
    "model.add(Dense(24, activation=\"relu\", input_dim=X_train.shape[1]))\n",
    "model.add(Dense(24, activation=\"relu\"))\n",
    "model.add(Dense(12, activation=\"relu\"))\n",
    "model.add(Dense(6, activation=\"relu\"))\n",
    "model.add(Dense(1))\n",
    "\n",
    "#Optimizer\n",
    "opt = Adam(learning_rate=0.003)\n",
    "\n",
    "#Compile\n",
    "model.compile(optimizer=opt, loss=\"mse\")\n",
    "\n",
    "#Early stoppling \n",
    "early_stop = EarlyStopping(\n",
    "    monitor=\"val_loss\", mode=\"min\", verbose=1, patience=25, restore_best_weights=True\n",
    ")\n",
    "\n",
    "\n",
    "#Fitting the model\n",
    "model.fit(\n",
    "    x=X_train,\n",
    "    y=y_train,\n",
    "    validation_split=0.15,\n",
    "    batch_size=128,\n",
    "    epochs=1000,\n",
    "    callbacks=[early_stop],\n",
    ")\n",
    "\n",
    "\n",
    "#History\n",
    "loss_df = pd.DataFrame(model.history.history)\n",
    "loss_df.plot()\n",
    "\n",
    "#Predict \n",
    "y_pred = model.predict(X_test)"
   ]
  },
  {
   "cell_type": "markdown",
   "id": "5eb68ac2",
   "metadata": {},
   "source": [
    "# Dropout"
   ]
  },
  {
   "cell_type": "code",
   "execution_count": null,
   "id": "77ace100",
   "metadata": {},
   "outputs": [],
   "source": [
    "#Importing \n",
    "from tensorflow.keras.layers import Dropout\n",
    "\n",
    "tf.random.set_seed(seed)\n",
    "\n",
    "#Building the model\n",
    "model = Sequential()\n",
    "\n",
    "model.add(Dense(24, activation=\"relu\", input_dim=X_train.shape[1]))\n",
    "#Dropout\n",
    "model.add(Dropout(0.2))\n",
    "model.add(Dense(24, activation=\"relu\"))\n",
    "#Dropout\n",
    "model.add(Dropout(0.2))\n",
    "model.add(Dense(12, activation=\"relu\"))\n",
    "#Dropout\n",
    "model.add(Dropout(0.2))\n",
    "model.add(Dense(6, activation=\"relu\"))\n",
    "#Dropout\n",
    "model.add(Dropout(0.2))\n",
    "model.add(Dense(1))\n",
    "\n",
    "\n",
    "#Optimizer\n",
    "opt = Adam(learning_rate=0.003)\n",
    "\n",
    "#Compile\n",
    "model.compile(optimizer=opt, loss=\"mse\")\n",
    "\n",
    "#Early stopping\n",
    "early_stop = EarlyStopping(\n",
    "    monitor=\"val_loss\", mode=\"min\", verbose=1, patience=25, restore_best_weights=True\n",
    ")\n",
    "\n",
    "model.fit(\n",
    "    x=X_train,\n",
    "    y=y_train,\n",
    "    validation_split=0.15,\n",
    "    batch_size=128,\n",
    "    epochs=1000,\n",
    "    callbacks=[early_stop],\n",
    ")\n"
   ]
  },
  {
   "cell_type": "code",
   "execution_count": null,
   "id": "34c8a728",
   "metadata": {},
   "outputs": [],
   "source": []
  },
  {
   "cell_type": "code",
   "execution_count": null,
   "id": "8f08dad3",
   "metadata": {},
   "outputs": [],
   "source": []
  }
 ],
 "metadata": {
  "kernelspec": {
   "display_name": "Python 3 (ipykernel)",
   "language": "python",
   "name": "python3"
  },
  "language_info": {
   "codemirror_mode": {
    "name": "ipython",
    "version": 3
   },
   "file_extension": ".py",
   "mimetype": "text/x-python",
   "name": "python",
   "nbconvert_exporter": "python",
   "pygments_lexer": "ipython3",
   "version": "3.11.5"
  }
 },
 "nbformat": 4,
 "nbformat_minor": 5
}
